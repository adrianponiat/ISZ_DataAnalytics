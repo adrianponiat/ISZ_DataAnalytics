{
 "cells": [
  {
   "cell_type": "code",
   "execution_count": 1,
   "metadata": {},
   "outputs": [
    {
     "name": "stderr",
     "output_type": "stream",
     "text": [
      "/usr/local/lib/python3.9/site-packages/tqdm/auto.py:22: TqdmWarning: IProgress not found. Please update jupyter and ipywidgets. See https://ipywidgets.readthedocs.io/en/stable/user_install.html\n",
      "  from .autonotebook import tqdm as notebook_tqdm\n"
     ]
    }
   ],
   "source": [
    "from cmdstanpy import CmdStanModel\n",
    "import pandas as pd\n",
    "import arviz as az \n",
    "import numpy as np\n",
    "import matplotlib.pyplot as plt\n",
    "import scipy.stats as stats"
   ]
  },
  {
   "cell_type": "code",
   "execution_count": 2,
   "metadata": {},
   "outputs": [
    {
     "data": {
      "text/plain": [
       "(6, 11)"
      ]
     },
     "execution_count": 2,
     "metadata": {},
     "output_type": "execute_result"
    }
   ],
   "source": [
    "F = len('Adrian')\n",
    "L = len('Poniatowski')\n",
    "\n",
    "F,L"
   ]
  },
  {
   "cell_type": "markdown",
   "metadata": {},
   "source": [
    "## Excercise 1 -  Generated Quantities Block"
   ]
  },
  {
   "cell_type": "code",
   "execution_count": 3,
   "metadata": {},
   "outputs": [
    {
     "name": "stderr",
     "output_type": "stream",
     "text": [
      "INFO:cmdstanpy:found newer exe file, not recompiling\n"
     ]
    }
   ],
   "source": [
    "gen_quant = CmdStanModel(stan_file='code_1.stan')\n"
   ]
  },
  {
   "cell_type": "code",
   "execution_count": 4,
   "metadata": {},
   "outputs": [
    {
     "name": "stderr",
     "output_type": "stream",
     "text": [
      "INFO:cmdstanpy:CmdStan start processing\n",
      "chain 1 |\u001b[34m██████████\u001b[0m| 00:00 Sampling completed"
     ]
    },
    {
     "name": "stdout",
     "output_type": "stream",
     "text": [
      "                                                                                "
     ]
    },
    {
     "name": "stderr",
     "output_type": "stream",
     "text": [
      "\n",
      "INFO:cmdstanpy:CmdStan done processing.\n"
     ]
    },
    {
     "name": "stdout",
     "output_type": "stream",
     "text": [
      "\n"
     ]
    }
   ],
   "source": [
    "samples = gen_quant.sample(data={'M':F}, \n",
    "                            fixed_param=True, \n",
    "                            iter_sampling=1000, \n",
    "                            iter_warmup=0, \n",
    "                            chains = 1)"
   ]
  },
  {
   "cell_type": "code",
   "execution_count": 5,
   "metadata": {},
   "outputs": [
    {
     "data": {
      "text/html": [
       "<div>\n",
       "<style scoped>\n",
       "    .dataframe tbody tr th:only-of-type {\n",
       "        vertical-align: middle;\n",
       "    }\n",
       "\n",
       "    .dataframe tbody tr th {\n",
       "        vertical-align: top;\n",
       "    }\n",
       "\n",
       "    .dataframe thead th {\n",
       "        text-align: right;\n",
       "    }\n",
       "</style>\n",
       "<table border=\"1\" class=\"dataframe\">\n",
       "  <thead>\n",
       "    <tr style=\"text-align: right;\">\n",
       "      <th></th>\n",
       "      <th>lp__</th>\n",
       "      <th>accept_stat__</th>\n",
       "      <th>lambda</th>\n",
       "      <th>y_sim[1]</th>\n",
       "      <th>y_sim[2]</th>\n",
       "      <th>y_sim[3]</th>\n",
       "      <th>y_sim[4]</th>\n",
       "      <th>y_sim[5]</th>\n",
       "      <th>y_sim[6]</th>\n",
       "    </tr>\n",
       "  </thead>\n",
       "  <tbody>\n",
       "    <tr>\n",
       "      <th>0</th>\n",
       "      <td>0.0</td>\n",
       "      <td>0.0</td>\n",
       "      <td>2.58114</td>\n",
       "      <td>6.0</td>\n",
       "      <td>4.0</td>\n",
       "      <td>1.0</td>\n",
       "      <td>3.0</td>\n",
       "      <td>4.0</td>\n",
       "      <td>1.0</td>\n",
       "    </tr>\n",
       "    <tr>\n",
       "      <th>1</th>\n",
       "      <td>0.0</td>\n",
       "      <td>0.0</td>\n",
       "      <td>46.70610</td>\n",
       "      <td>53.0</td>\n",
       "      <td>55.0</td>\n",
       "      <td>43.0</td>\n",
       "      <td>40.0</td>\n",
       "      <td>47.0</td>\n",
       "      <td>42.0</td>\n",
       "    </tr>\n",
       "    <tr>\n",
       "      <th>2</th>\n",
       "      <td>0.0</td>\n",
       "      <td>0.0</td>\n",
       "      <td>75.54610</td>\n",
       "      <td>77.0</td>\n",
       "      <td>81.0</td>\n",
       "      <td>65.0</td>\n",
       "      <td>77.0</td>\n",
       "      <td>61.0</td>\n",
       "      <td>57.0</td>\n",
       "    </tr>\n",
       "    <tr>\n",
       "      <th>3</th>\n",
       "      <td>0.0</td>\n",
       "      <td>0.0</td>\n",
       "      <td>171.94400</td>\n",
       "      <td>175.0</td>\n",
       "      <td>152.0</td>\n",
       "      <td>155.0</td>\n",
       "      <td>191.0</td>\n",
       "      <td>189.0</td>\n",
       "      <td>140.0</td>\n",
       "    </tr>\n",
       "    <tr>\n",
       "      <th>4</th>\n",
       "      <td>0.0</td>\n",
       "      <td>0.0</td>\n",
       "      <td>10.70660</td>\n",
       "      <td>14.0</td>\n",
       "      <td>11.0</td>\n",
       "      <td>8.0</td>\n",
       "      <td>11.0</td>\n",
       "      <td>21.0</td>\n",
       "      <td>13.0</td>\n",
       "    </tr>\n",
       "    <tr>\n",
       "      <th>...</th>\n",
       "      <td>...</td>\n",
       "      <td>...</td>\n",
       "      <td>...</td>\n",
       "      <td>...</td>\n",
       "      <td>...</td>\n",
       "      <td>...</td>\n",
       "      <td>...</td>\n",
       "      <td>...</td>\n",
       "      <td>...</td>\n",
       "    </tr>\n",
       "    <tr>\n",
       "      <th>995</th>\n",
       "      <td>0.0</td>\n",
       "      <td>0.0</td>\n",
       "      <td>30.08890</td>\n",
       "      <td>26.0</td>\n",
       "      <td>34.0</td>\n",
       "      <td>29.0</td>\n",
       "      <td>35.0</td>\n",
       "      <td>25.0</td>\n",
       "      <td>27.0</td>\n",
       "    </tr>\n",
       "    <tr>\n",
       "      <th>996</th>\n",
       "      <td>0.0</td>\n",
       "      <td>0.0</td>\n",
       "      <td>128.85800</td>\n",
       "      <td>142.0</td>\n",
       "      <td>118.0</td>\n",
       "      <td>122.0</td>\n",
       "      <td>127.0</td>\n",
       "      <td>120.0</td>\n",
       "      <td>126.0</td>\n",
       "    </tr>\n",
       "    <tr>\n",
       "      <th>997</th>\n",
       "      <td>0.0</td>\n",
       "      <td>0.0</td>\n",
       "      <td>189.38400</td>\n",
       "      <td>174.0</td>\n",
       "      <td>185.0</td>\n",
       "      <td>193.0</td>\n",
       "      <td>188.0</td>\n",
       "      <td>194.0</td>\n",
       "      <td>172.0</td>\n",
       "    </tr>\n",
       "    <tr>\n",
       "      <th>998</th>\n",
       "      <td>0.0</td>\n",
       "      <td>0.0</td>\n",
       "      <td>78.70910</td>\n",
       "      <td>84.0</td>\n",
       "      <td>77.0</td>\n",
       "      <td>94.0</td>\n",
       "      <td>82.0</td>\n",
       "      <td>89.0</td>\n",
       "      <td>91.0</td>\n",
       "    </tr>\n",
       "    <tr>\n",
       "      <th>999</th>\n",
       "      <td>0.0</td>\n",
       "      <td>0.0</td>\n",
       "      <td>269.41000</td>\n",
       "      <td>245.0</td>\n",
       "      <td>285.0</td>\n",
       "      <td>258.0</td>\n",
       "      <td>262.0</td>\n",
       "      <td>261.0</td>\n",
       "      <td>236.0</td>\n",
       "    </tr>\n",
       "  </tbody>\n",
       "</table>\n",
       "<p>1000 rows × 9 columns</p>\n",
       "</div>"
      ],
      "text/plain": [
       "     lp__  accept_stat__     lambda  y_sim[1]  y_sim[2]  y_sim[3]  y_sim[4]  \\\n",
       "0     0.0            0.0    2.58114       6.0       4.0       1.0       3.0   \n",
       "1     0.0            0.0   46.70610      53.0      55.0      43.0      40.0   \n",
       "2     0.0            0.0   75.54610      77.0      81.0      65.0      77.0   \n",
       "3     0.0            0.0  171.94400     175.0     152.0     155.0     191.0   \n",
       "4     0.0            0.0   10.70660      14.0      11.0       8.0      11.0   \n",
       "..    ...            ...        ...       ...       ...       ...       ...   \n",
       "995   0.0            0.0   30.08890      26.0      34.0      29.0      35.0   \n",
       "996   0.0            0.0  128.85800     142.0     118.0     122.0     127.0   \n",
       "997   0.0            0.0  189.38400     174.0     185.0     193.0     188.0   \n",
       "998   0.0            0.0   78.70910      84.0      77.0      94.0      82.0   \n",
       "999   0.0            0.0  269.41000     245.0     285.0     258.0     262.0   \n",
       "\n",
       "     y_sim[5]  y_sim[6]  \n",
       "0         4.0       1.0  \n",
       "1        47.0      42.0  \n",
       "2        61.0      57.0  \n",
       "3       189.0     140.0  \n",
       "4        21.0      13.0  \n",
       "..        ...       ...  \n",
       "995      25.0      27.0  \n",
       "996     120.0     126.0  \n",
       "997     194.0     172.0  \n",
       "998      89.0      91.0  \n",
       "999     261.0     236.0  \n",
       "\n",
       "[1000 rows x 9 columns]"
      ]
     },
     "execution_count": 5,
     "metadata": {},
     "output_type": "execute_result"
    }
   ],
   "source": [
    "df = samples.draws_pd()\n",
    "df"
   ]
  },
  {
   "cell_type": "code",
   "execution_count": 6,
   "metadata": {},
   "outputs": [
    {
     "data": {
      "image/png": "[encoded data removed]",
      "text/plain": [
       "<Figure size 432x288 with 6 Axes>"
      ]
     },
     "metadata": {
      "needs_background": "light"
     },
     "output_type": "display_data"
    }
   ],
   "source": [
    "df_y_sim = df.drop(df.columns[0:3], axis=1)\n",
    "df_y_sim.plot.hist(subplots=True, bins=25)\n",
    "plt.show()"
   ]
  },
  {
   "cell_type": "code",
   "execution_count": 7,
   "metadata": {},
   "outputs": [
    {
     "data": {
      "image/png": "[encoded data removed]",
      "text/plain": [
       "<Figure size 432x288 with 1 Axes>"
      ]
     },
     "metadata": {
      "needs_background": "light"
     },
     "output_type": "display_data"
    }
   ],
   "source": [
    "df['lambda'].plot.hist(bins=25)\n",
    "plt.show()"
   ]
  },
  {
   "cell_type": "markdown",
   "metadata": {},
   "source": [
    "## Excercise 2 - Constraints on the data "
   ]
  },
  {
   "cell_type": "code",
   "execution_count": 8,
   "metadata": {},
   "outputs": [
    {
     "name": "stderr",
     "output_type": "stream",
     "text": [
      "INFO:cmdstanpy:found newer exe file, not recompiling\n",
      "INFO:cmdstanpy:CmdStan start processing\n",
      "chain 1 |\u001b[33m          \u001b[0m| 00:00 Status\n",
      "\u001b[A\n",
      "\n",
      "chain 1 |\u001b[33m▍         \u001b[0m| 00:00 Status\n",
      "\n",
      "\u001b[A\u001b[A\n",
      "chain 1 |\u001b[34m██████████\u001b[0m| 00:00 Sampling completed                       \n",
      "chain 2 |\u001b[34m██████████\u001b[0m| 00:00 Sampling completed\n",
      "\n",
      "chain 3 |\u001b[34m██████████\u001b[0m| 00:00 Sampling completed\n",
      "\n",
      "\n",
      "chain 4 |\u001b[34m██████████\u001b[0m| 00:00 Sampling completed"
     ]
    },
    {
     "name": "stdout",
     "output_type": "stream",
     "text": [
      "                                                                                                                                                                                                                                                                                                                                "
     ]
    },
    {
     "name": "stderr",
     "output_type": "stream",
     "text": [
      "\n",
      "INFO:cmdstanpy:CmdStan done processing.\n"
     ]
    },
    {
     "name": "stdout",
     "output_type": "stream",
     "text": [
      "\n"
     ]
    }
   ],
   "source": [
    "bern1 = CmdStanModel(stan_file='code_2.stan')\n",
    "samp_bern1 = bern1.sample(data={'N':2, 'y':[0,1]})\n",
    "\n",
    "# during running original code there was an error (bernoulli_lpmf: n[2] is 2, but must be in the interval [0, 1]), so I decided to set 'y':[0,1]"
   ]
  },
  {
   "cell_type": "code",
   "execution_count": 9,
   "metadata": {},
   "outputs": [
    {
     "name": "stderr",
     "output_type": "stream",
     "text": [
      "INFO:cmdstanpy:found newer exe file, not recompiling\n",
      "INFO:cmdstanpy:CmdStan start processing\n",
      "chain 1 |\u001b[33m          \u001b[0m| 00:00 Status\n",
      "\u001b[A\n",
      "\n",
      "\u001b[A\u001b[A\n",
      "chain 1 |\u001b[33m▍         \u001b[0m| 00:00 Status\n",
      "\n",
      "chain 1 |\u001b[34m██████████\u001b[0m| 00:00 Sampling completed\n",
      "chain 2 |\u001b[34m██████████\u001b[0m| 00:00 Sampling completed\n",
      "chain 3 |\u001b[34m██████████\u001b[0m| 00:00 Sampling completed\n",
      "chain 4 |\u001b[34m██████████\u001b[0m| 00:00 Sampling completed"
     ]
    },
    {
     "name": "stdout",
     "output_type": "stream",
     "text": [
      "                                                                                "
     ]
    },
    {
     "name": "stderr",
     "output_type": "stream",
     "text": [
      "\n"
     ]
    },
    {
     "name": "stdout",
     "output_type": "stream",
     "text": [
      "                                                                                                                                                                                                                                                "
     ]
    },
    {
     "name": "stderr",
     "output_type": "stream",
     "text": [
      "INFO:cmdstanpy:CmdStan done processing.\n"
     ]
    },
    {
     "name": "stdout",
     "output_type": "stream",
     "text": [
      "\n"
     ]
    }
   ],
   "source": [
    "bern2 = CmdStanModel(stan_file='code_3.stan')\n",
    "samp_bern2 = bern2.sample(data={'N':2, 'y':[0,1]})\n",
    "\n",
    "# same situation as above (for code_2.stan)"
   ]
  },
  {
   "cell_type": "markdown",
   "metadata": {},
   "source": [
    "## Excercise 3 - Constraints on parameters"
   ]
  },
  {
   "cell_type": "markdown",
   "metadata": {},
   "source": [
    "### Unconstrained parameters"
   ]
  },
  {
   "cell_type": "code",
   "execution_count": 10,
   "metadata": {},
   "outputs": [
    {
     "name": "stderr",
     "output_type": "stream",
     "text": [
      "INFO:cmdstanpy:found newer exe file, not recompiling\n",
      "INFO:cmdstanpy:CmdStan start processing\n",
      "chain 1 |\u001b[33m          \u001b[0m| 00:00 Status\n",
      "\u001b[A\n",
      "\n",
      "\u001b[A\u001b[A\n",
      "\n",
      "\u001b[A\u001b[A\n",
      "chain 1 |\u001b[33m▏         \u001b[0m| 00:00 Status\n",
      "\n",
      "\u001b[A\u001b[A\n",
      "chain 1 |\u001b[34m█▉        \u001b[0m| 00:00 Iteration: 1100 / 7000 [ 15%]  (Sampling)\n",
      "\u001b[A\n",
      "\n",
      "chain 1 |\u001b[34m██▉       \u001b[0m| 00:00 Iteration: 1800 / 7000 [ 25%]  (Sampling)\n",
      "\u001b[A\n",
      "\n",
      "chain 1 |\u001b[34m███▌      \u001b[0m| 00:00 Iteration: 2300 / 7000 [ 32%]  (Sampling)\n",
      "\u001b[A\n",
      "\n",
      "chain 1 |\u001b[34m████▏     \u001b[0m| 00:01 Iteration: 2700 / 7000 [ 38%]  (Sampling)\n",
      "\u001b[A\n",
      "\n",
      "chain 1 |\u001b[34m████▊     \u001b[0m| 00:02 Iteration: 3200 / 7000 [ 45%]  (Sampling)\n",
      "\u001b[A\n",
      "\n",
      "chain 1 |\u001b[34m█████▏    \u001b[0m| 00:02 Iteration: 3400 / 7000 [ 48%]  (Sampling)\n",
      "\u001b[A\n",
      "\n",
      "chain 1 |\u001b[34m█████▍    \u001b[0m| 00:02 Iteration: 3600 / 7000 [ 51%]  (Sampling)\n",
      "\u001b[A\n",
      "\n",
      "chain 1 |\u001b[34m█████▋    \u001b[0m| 00:02 Iteration: 3800 / 7000 [ 54%]  (Sampling)\n",
      "\u001b[A\n",
      "\n",
      "chain 1 |\u001b[34m█████▉    \u001b[0m| 00:02 Iteration: 4000 / 7000 [ 57%]  (Sampling)\n",
      "\u001b[A\n",
      "\n",
      "\u001b[A\u001b[A\n",
      "chain 1 |\u001b[34m██████▎   \u001b[0m| 00:02 Iteration: 4200 / 7000 [ 60%]  (Sampling)\n",
      "\n",
      "chain 1 |\u001b[34m██████▌   \u001b[0m| 00:03 Iteration: 4400 / 7000 [ 62%]  (Sampling)\n",
      "\u001b[A\n",
      "\n",
      "chain 1 |\u001b[34m██████▊   \u001b[0m| 00:03 Iteration: 4600 / 7000 [ 65%]  (Sampling)\n",
      "\u001b[A\n",
      "\n",
      "chain 1 |\u001b[34m███████   \u001b[0m| 00:03 Iteration: 4800 / 7000 [ 68%]  (Sampling)\n",
      "\u001b[A\n",
      "\n",
      "\u001b[A\u001b[A\n",
      "\n",
      "chain 1 |\u001b[34m███████▎  \u001b[0m| 00:03 Iteration: 5000 / 7000 [ 71%]  (Sampling)\n",
      "\u001b[A\n",
      "\n",
      "\u001b[A\u001b[A\n",
      "chain 1 |\u001b[34m███████▉  \u001b[0m| 00:04 Iteration: 5400 / 7000 [ 77%]  (Sampling)\n",
      "\n",
      "\u001b[A\u001b[A\n",
      "\u001b[A\n",
      "chain 1 |\u001b[34m████████▏ \u001b[0m| 00:04 Iteration: 5600 / 7000 [ 80%]  (Sampling)\n",
      "\n",
      "\u001b[A\u001b[A\n",
      "chain 1 |\u001b[34m████████▎ \u001b[0m| 00:04 Iteration: 5700 / 7000 [ 81%]  (Sampling)\n",
      "\n",
      "\u001b[A\u001b[A\n",
      "chain 1 |\u001b[34m████████▍ \u001b[0m| 00:04 Iteration: 5800 / 7000 [ 82%]  (Sampling)\n",
      "\n",
      "\u001b[A\u001b[A\n",
      "chain 1 |\u001b[34m████████▌ \u001b[0m| 00:04 Iteration: 5900 / 7000 [ 84%]  (Sampling)\n",
      "\n",
      "\u001b[A\u001b[A\n",
      "chain 1 |\u001b[34m████████▊ \u001b[0m| 00:04 Iteration: 6000 / 7000 [ 85%]  (Sampling)\n",
      "\n",
      "\u001b[A\u001b[A\n",
      "\u001b[A\n",
      "\n",
      "chain 1 |\u001b[34m█████████ \u001b[0m| 00:05 Iteration: 6200 / 7000 [ 88%]  (Sampling)\n",
      "\u001b[A\n",
      "\n",
      "chain 1 |\u001b[34m█████████▎\u001b[0m| 00:05 Iteration: 6400 / 7000 [ 91%]  (Sampling)\n",
      "\u001b[A\n",
      "\n",
      "chain 1 |\u001b[34m█████████▌\u001b[0m| 00:05 Iteration: 6600 / 7000 [ 94%]  (Sampling)\n",
      "\u001b[A\n",
      "\u001b[A\n",
      "\n",
      "chain 1 |\u001b[34m█████████▊\u001b[0m| 00:05 Iteration: 6800 / 7000 [ 97%]  (Sampling)\n",
      "chain 1 |\u001b[34m██████████\u001b[0m| 00:05 Iteration: 6900 / 7000 [ 98%]  (Sampling)\n",
      "chain 1 |\u001b[34m██████████\u001b[0m| 00:06 Sampling completed                       \n",
      "chain 2 |\u001b[34m██████████\u001b[0m| 00:06 Sampling completed                       \n",
      "chain 3 |\u001b[34m██████████\u001b[0m| 00:06 Sampling completed                       \n",
      "chain 4 |\u001b[34m██████████\u001b[0m| 00:06 Sampling completed                       "
     ]
    },
    {
     "name": "stdout",
     "output_type": "stream",
     "text": [
      "                                                                                                                                                                "
     ]
    },
    {
     "name": "stderr",
     "output_type": "stream",
     "text": [
      "\n"
     ]
    },
    {
     "name": "stdout",
     "output_type": "stream",
     "text": [
      "                                                                                                                                                                "
     ]
    },
    {
     "name": "stderr",
     "output_type": "stream",
     "text": [
      "INFO:cmdstanpy:CmdStan done processing.\n"
     ]
    },
    {
     "name": "stdout",
     "output_type": "stream",
     "text": [
      "\n"
     ]
    },
    {
     "data": {
      "text/plain": [
       "\"Processing csv files: /home/Lab2_DA/samples/code_4-20230320223821_1.csv, /home/Lab2_DA/samples/code_4-20230320223821_2.csv, /home/Lab2_DA/samples/code_4-20230320223821_3.csv, /home/Lab2_DA/samples/code_4-20230320223821_4.csv\\n\\nChecking sampler transitions treedepth.\\nTreedepth satisfactory for all transitions.\\n\\nChecking sampler transitions for divergences.\\n9489 of 24000 (39.54%) transitions ended with a divergence.\\nThese divergent transitions indicate that HMC is not fully able to explore the posterior distribution.\\nTry increasing adapt delta closer to 1.\\nIf this doesn't remove all divergences, try to reparameterize the model.\\n\\nChecking E-BFMI - sampler transitions HMC potential energy.\\nE-BFMI satisfactory.\\n\\nEffective sample size satisfactory.\\n\\nSplit R-hat values satisfactory all parameters.\\n\\nProcessing complete.\\n\""
      ]
     },
     "execution_count": 10,
     "metadata": {},
     "output_type": "execute_result"
    }
   ],
   "source": [
    "model_gm1 = CmdStanModel(stan_file='code_4.stan')\n",
    "out_gamma1 = model_gm1.sample(output_dir='samples',iter_sampling=6000,iter_warmup=1000, seed=4838282)\n",
    "out_gamma1.diagnose()\n"
   ]
  },
  {
   "cell_type": "code",
   "execution_count": 11,
   "metadata": {},
   "outputs": [
    {
     "data": {
      "image/png": "[encoded data removed]",
      "text/plain": [
       "<Figure size 432x288 with 1 Axes>"
      ]
     },
     "metadata": {
      "needs_background": "light"
     },
     "output_type": "display_data"
    }
   ],
   "source": [
    "N=500\n",
    "xs = np.linspace(0,8,N)\n",
    "pdfs = stats.gamma.pdf(xs, 1.25, scale = 1 / 1.25) \n",
    "\n",
    "df_theta = out_gamma1.draws_pd()\n",
    "theta = df_theta['theta']\n",
    "\n",
    "plt.plot(xs, pdfs, linewidth=2)\n",
    "\n",
    "## add histogram of theta samples with 160 bins\n",
    "theta.plot.hist(bins=160, density=True)\n",
    "\n",
    "plt.gca().set_xlabel(\"theta\")\n",
    "plt.gca().set_ylabel(\"Probability Density Function\")\n",
    "plt.show()"
   ]
  },
  {
   "cell_type": "markdown",
   "metadata": {},
   "source": [
    "### Constrained parameter"
   ]
  },
  {
   "cell_type": "code",
   "execution_count": 12,
   "metadata": {},
   "outputs": [
    {
     "name": "stderr",
     "output_type": "stream",
     "text": [
      "INFO:cmdstanpy:found newer exe file, not recompiling\n",
      "INFO:cmdstanpy:CmdStan start processing\n",
      "chain 1 |\u001b[33m          \u001b[0m| 00:00 Status\n",
      "\u001b[A\n",
      "\n",
      "\u001b[A\u001b[A\n",
      "\n",
      "\u001b[A\u001b[A\n",
      "chain 1 |\u001b[33m▏         \u001b[0m| 00:00 Status\n",
      "\n",
      "chain 1 |\u001b[34m█▉        \u001b[0m| 00:00 Iteration: 1100 / 7000 [ 15%]  (Sampling)\n",
      "\u001b[A\n",
      "\u001b[A\n",
      "\n",
      "chain 1 |\u001b[34m███       \u001b[0m| 00:00 Iteration: 1900 / 7000 [ 27%]  (Sampling)\n",
      "\u001b[A\n",
      "\n",
      "chain 1 |\u001b[34m███▊      \u001b[0m| 00:00 Iteration: 2400 / 7000 [ 34%]  (Sampling)\n",
      "\u001b[A\n",
      "\n",
      "chain 1 |\u001b[34m████▎     \u001b[0m| 00:01 Iteration: 2800 / 7000 [ 40%]  (Sampling)\n",
      "\u001b[A\n",
      "\n",
      "chain 1 |\u001b[34m████▊     \u001b[0m| 00:01 Iteration: 3200 / 7000 [ 45%]  (Sampling)\n",
      "\u001b[A\n",
      "\n",
      "chain 1 |\u001b[34m█████▎    \u001b[0m| 00:02 Iteration: 3500 / 7000 [ 50%]  (Sampling)\n",
      "\u001b[A\n",
      "\n",
      "chain 1 |\u001b[34m█████▌    \u001b[0m| 00:02 Iteration: 3700 / 7000 [ 52%]  (Sampling)\n",
      "chain 1 |\u001b[34m█████▊    \u001b[0m| 00:02 Iteration: 3900 / 7000 [ 55%]  (Sampling)\n",
      "\n",
      "\u001b[A\u001b[A\n",
      "chain 1 |\u001b[34m██████    \u001b[0m| 00:02 Iteration: 4100 / 7000 [ 58%]  (Sampling)\n",
      "\n",
      "\u001b[A\u001b[A\n",
      "chain 1 |\u001b[34m██████▍   \u001b[0m| 00:02 Iteration: 4300 / 7000 [ 61%]  (Sampling)\n",
      "\n",
      "\u001b[A\u001b[A\n",
      "chain 1 |\u001b[34m██████▋   \u001b[0m| 00:02 Iteration: 4500 / 7000 [ 64%]  (Sampling)\n",
      "\n",
      "\u001b[A\u001b[A\n",
      "chain 1 |\u001b[34m██████▉   \u001b[0m| 00:03 Iteration: 4700 / 7000 [ 67%]  (Sampling)\n",
      "\n",
      "\u001b[A\u001b[A\n",
      "chain 1 |\u001b[34m███████▏  \u001b[0m| 00:03 Iteration: 4900 / 7000 [ 70%]  (Sampling)\n",
      "\n",
      "\u001b[A\u001b[A\n",
      "chain 1 |\u001b[34m███████▌  \u001b[0m| 00:03 Iteration: 5100 / 7000 [ 72%]  (Sampling)\n",
      "\n",
      "\u001b[A\u001b[A\n",
      "chain 1 |\u001b[34m███████▊  \u001b[0m| 00:03 Iteration: 5300 / 7000 [ 75%]  (Sampling)\n",
      "\n",
      "\u001b[A\u001b[A\n",
      "chain 1 |\u001b[34m████████  \u001b[0m| 00:03 Iteration: 5500 / 7000 [ 78%]  (Sampling)\n",
      "\n",
      "\u001b[A\u001b[A\n",
      "chain 1 |\u001b[34m████████▎ \u001b[0m| 00:04 Iteration: 5700 / 7000 [ 81%]  (Sampling)\n",
      "\n",
      "\u001b[A\u001b[A\n",
      "chain 1 |\u001b[34m████████▌ \u001b[0m| 00:04 Iteration: 5900 / 7000 [ 84%]  (Sampling)\n",
      "\n",
      "\u001b[A\u001b[A\n",
      "chain 1 |\u001b[34m████████▉ \u001b[0m| 00:04 Iteration: 6100 / 7000 [ 87%]  (Sampling)\n",
      "\n",
      "\u001b[A\u001b[A\n",
      "chain 1 |\u001b[34m█████████▏\u001b[0m| 00:04 Iteration: 6300 / 7000 [ 90%]  (Sampling)\n",
      "\n",
      "\u001b[A\u001b[A\n",
      "chain 1 |\u001b[34m█████████▍\u001b[0m| 00:04 Iteration: 6500 / 7000 [ 92%]  (Sampling)\n",
      "\n",
      "\u001b[A\u001b[A\n",
      "chain 1 |\u001b[34m█████████▋\u001b[0m| 00:04 Iteration: 6700 / 7000 [ 95%]  (Sampling)\n",
      "\n",
      "\u001b[A\u001b[A\n",
      "chain 1 |\u001b[34m██████████\u001b[0m| 00:04 Sampling completed                       \n",
      "chain 2 |\u001b[34m██████████\u001b[0m| 00:04 Sampling completed                       \n",
      "chain 3 |\u001b[34m██████████\u001b[0m| 00:04 Sampling completed                       \n",
      "chain 4 |\u001b[34m██████████\u001b[0m| 00:04 Sampling completed                       "
     ]
    },
    {
     "name": "stdout",
     "output_type": "stream",
     "text": [
      "                                                                                                                                                                                                                                                                                                                                "
     ]
    },
    {
     "name": "stderr",
     "output_type": "stream",
     "text": [
      "\n",
      "INFO:cmdstanpy:CmdStan done processing.\n"
     ]
    },
    {
     "name": "stdout",
     "output_type": "stream",
     "text": [
      "\n"
     ]
    },
    {
     "data": {
      "text/plain": [
       "\"Processing csv files: /home/Lab2_DA/samples/code_5-20230320223830_1.csv, /home/Lab2_DA/samples/code_5-20230320223830_2.csv, /home/Lab2_DA/samples/code_5-20230320223830_3.csv, /home/Lab2_DA/samples/code_5-20230320223830_4.csv\\n\\nChecking sampler transitions treedepth.\\nTreedepth satisfactory for all transitions.\\n\\nChecking sampler transitions for divergences.\\n2 of 24000 (0.01%) transitions ended with a divergence.\\nThese divergent transitions indicate that HMC is not fully able to explore the posterior distribution.\\nTry increasing adapt delta closer to 1.\\nIf this doesn't remove all divergences, try to reparameterize the model.\\n\\nChecking E-BFMI - sampler transitions HMC potential energy.\\nE-BFMI satisfactory.\\n\\nEffective sample size satisfactory.\\n\\nSplit R-hat values satisfactory all parameters.\\n\\nProcessing complete.\\n\""
      ]
     },
     "execution_count": 12,
     "metadata": {},
     "output_type": "execute_result"
    }
   ],
   "source": [
    "model_gm2 = CmdStanModel(stan_file='code_5.stan')\n",
    "out_gamma2 = model_gm2.sample(output_dir='samples',iter_sampling=6000,iter_warmup=1000, seed=4838282)\n",
    "out_gamma2.diagnose()"
   ]
  },
  {
   "cell_type": "code",
   "execution_count": 13,
   "metadata": {},
   "outputs": [
    {
     "data": {
      "image/png": "[encoded data removed]",
      "text/plain": [
       "<Figure size 432x288 with 1 Axes>"
      ]
     },
     "metadata": {
      "needs_background": "light"
     },
     "output_type": "display_data"
    }
   ],
   "source": [
    "N=500\n",
    "xs = np.linspace(0,8,N)\n",
    "pdfs = stats.gamma.pdf(xs, 1.25, scale = 1 / 1.25) \n",
    "\n",
    "df_theta = out_gamma2.draws_pd()\n",
    "theta = df_theta['theta']\n",
    "\n",
    "plt.plot(xs, pdfs, linewidth=2)\n",
    "\n",
    "## add histogram of theta samples with 160 bins\n",
    "theta.plot.hist(bins=160, density=True)\n",
    "\n",
    "plt.gca().set_xlabel(\"theta\")\n",
    "plt.gca().set_ylabel(\"Probability Density Function\")\n",
    "plt.show()"
   ]
  },
  {
   "attachments": {},
   "cell_type": "markdown",
   "metadata": {},
   "source": [
    "In first case (code_4.stan) there are much more transitions ended with a divergence (39.54%). In code_5.stan there are only 2 transitions ended with a divergence (0.01%)."
   ]
  },
  {
   "cell_type": "markdown",
   "metadata": {},
   "source": [
    "## Excercise 4 -  Selection of parameters using equation solving\n",
    "\n"
   ]
  },
  {
   "cell_type": "code",
   "execution_count": 14,
   "metadata": {},
   "outputs": [
    {
     "name": "stderr",
     "output_type": "stream",
     "text": [
      "INFO:cmdstanpy:found newer exe file, not recompiling\n",
      "INFO:cmdstanpy:CmdStan start processing\n",
      "chain 1 |\u001b[34m██████████\u001b[0m| 00:00 Sampling completed"
     ]
    },
    {
     "name": "stdout",
     "output_type": "stream",
     "text": [
      "                                                                                "
     ]
    },
    {
     "name": "stderr",
     "output_type": "stream",
     "text": [
      "\n",
      "INFO:cmdstanpy:CmdStan done processing.\n"
     ]
    },
    {
     "name": "stdout",
     "output_type": "stream",
     "text": [
      "\n"
     ]
    },
    {
     "data": {
      "text/html": [
       "<div>\n",
       "<style scoped>\n",
       "    .dataframe tbody tr th:only-of-type {\n",
       "        vertical-align: middle;\n",
       "    }\n",
       "\n",
       "    .dataframe tbody tr th {\n",
       "        vertical-align: top;\n",
       "    }\n",
       "\n",
       "    .dataframe thead th {\n",
       "        text-align: right;\n",
       "    }\n",
       "</style>\n",
       "<table border=\"1\" class=\"dataframe\">\n",
       "  <thead>\n",
       "    <tr style=\"text-align: right;\">\n",
       "      <th></th>\n",
       "      <th>lp__</th>\n",
       "      <th>accept_stat__</th>\n",
       "      <th>sigma</th>\n",
       "    </tr>\n",
       "  </thead>\n",
       "  <tbody>\n",
       "    <tr>\n",
       "      <th>0</th>\n",
       "      <td>0.0</td>\n",
       "      <td>0.0</td>\n",
       "      <td>3.29991</td>\n",
       "    </tr>\n",
       "  </tbody>\n",
       "</table>\n",
       "</div>"
      ],
      "text/plain": [
       "   lp__  accept_stat__    sigma\n",
       "0   0.0            0.0  3.29991"
      ]
     },
     "execution_count": 14,
     "metadata": {},
     "output_type": "execute_result"
    }
   ],
   "source": [
    "model_tune = CmdStanModel(stan_file='code_6.stan')\n",
    "\n",
    "F = len('Adrian')       # number of letters in the first name\n",
    "L = len('Poniatowski')  # number of letters in the last name\n",
    "y0 = 2                  # initial guess for the equation solving\n",
    "\n",
    "data={'y_guess':[y0],\n",
    "        'theta':[(F+L)/2]}\n",
    "tunes = model_tune.sample(data=data, fixed_param=True, iter_sampling=1, iter_warmup=0, chains = 1)\n",
    "std = tunes.draws_pd()\n",
    "std"
   ]
  },
  {
   "attachments": {},
   "cell_type": "markdown",
   "metadata": {},
   "source": [
    "Sigma denoting standard deviation is equal 3.29991"
   ]
  },
  {
   "cell_type": "markdown",
   "metadata": {},
   "source": [
    "## Excercise 5 - different methods of defining models\n"
   ]
  },
  {
   "cell_type": "code",
   "execution_count": 15,
   "metadata": {},
   "outputs": [
    {
     "name": "stderr",
     "output_type": "stream",
     "text": [
      "INFO:cmdstanpy:found newer exe file, not recompiling\n",
      "INFO:cmdstanpy:found newer exe file, not recompiling\n",
      "INFO:cmdstanpy:found newer exe file, not recompiling\n",
      "INFO:cmdstanpy:CmdStan start processing\n",
      "chain 1 |\u001b[33m          \u001b[0m| 00:00 Status\n",
      "\u001b[A\n",
      "\n",
      "\u001b[A\u001b[A\n",
      "\u001b[A\n",
      "\n",
      "\u001b[A\u001b[A\n",
      "\u001b[A\n",
      "\n",
      "chain 1 |\u001b[34m██████████\u001b[0m| 00:00 Sampling completed                     \n",
      "chain 2 |\u001b[34m██████████\u001b[0m| 00:00 Sampling completed                       \n",
      "chain 3 |\u001b[34m██████████\u001b[0m| 00:00 Sampling completed                       \n",
      "chain 4 |\u001b[34m██████████\u001b[0m| 00:00 Sampling completed                       "
     ]
    },
    {
     "name": "stdout",
     "output_type": "stream",
     "text": [
      "                                                                                                                                                                                                                                                                                                                                "
     ]
    },
    {
     "name": "stderr",
     "output_type": "stream",
     "text": [
      "\n",
      "INFO:cmdstanpy:CmdStan done processing.\n"
     ]
    },
    {
     "name": "stdout",
     "output_type": "stream",
     "text": [
      "\n"
     ]
    },
    {
     "name": "stderr",
     "output_type": "stream",
     "text": [
      "INFO:cmdstanpy:CmdStan start processing\n",
      "chain 1 |\u001b[33m          \u001b[0m| 00:00 Status\n",
      "\u001b[A\n",
      "\n",
      "\u001b[A\u001b[A\n",
      "\n",
      "\u001b[A\u001b[A\n",
      "chain 1 |\u001b[33m▍         \u001b[0m| 00:00 Status\n",
      "\n",
      "chain 1 |\u001b[33m██▋       \u001b[0m| 00:00 Iteration:  400 / 2000 [ 20%]  (Warmup)\n",
      "\u001b[A\n",
      "\n",
      "\u001b[A\u001b[A\n",
      "chain 1 |\u001b[34m██████████\u001b[0m| 00:00 Sampling completed                       \n",
      "chain 2 |\u001b[34m██████████\u001b[0m| 00:00 Sampling completed                       \n",
      "chain 3 |\u001b[34m██████████\u001b[0m| 00:00 Sampling completed                       \n",
      "chain 4 |\u001b[34m██████████\u001b[0m| 00:00 Sampling completed                       "
     ]
    },
    {
     "name": "stdout",
     "output_type": "stream",
     "text": [
      "                                                                                                                                                                                                                                                                                                                                "
     ]
    },
    {
     "name": "stderr",
     "output_type": "stream",
     "text": [
      "\n",
      "INFO:cmdstanpy:CmdStan done processing.\n"
     ]
    },
    {
     "name": "stdout",
     "output_type": "stream",
     "text": [
      "\n"
     ]
    },
    {
     "name": "stderr",
     "output_type": "stream",
     "text": [
      "INFO:cmdstanpy:CmdStan start processing\n",
      "chain 1 |\u001b[33m          \u001b[0m| 00:00 Status\n",
      "\u001b[A\n",
      "\n",
      "\u001b[A\u001b[A\n",
      "\u001b[A\n",
      "\n",
      "chain 1 |\u001b[33m██▎       \u001b[0m| 00:00 Iteration:  300 / 2000 [ 15%]  (Warmup)\n",
      "\u001b[A\n",
      "\n",
      "\u001b[A\u001b[A\n",
      "chain 1 |\u001b[34m█████▉    \u001b[0m| 00:00 Iteration: 1001 / 2000 [ 50%]  (Sampling)\n",
      "\n",
      "\u001b[A\u001b[A\n",
      "chain 1 |\u001b[34m████████▏ \u001b[0m| 00:00 Iteration: 1500 / 2000 [ 75%]  (Sampling)\n",
      "\n",
      "chain 1 |\u001b[34m██████████\u001b[0m| 00:00 Iteration: 1900 / 2000 [ 95%]  (Sampling)\n",
      "\u001b[A\n",
      "\n",
      "chain 1 |\u001b[34m██████████\u001b[0m| 00:00 Sampling completed                       \n",
      "chain 2 |\u001b[34m██████████\u001b[0m| 00:00 Sampling completed                       \n",
      "\n",
      "chain 3 |\u001b[34m██████████\u001b[0m| 00:00 Sampling completed\n",
      "\n",
      "\n",
      "chain 4 |\u001b[34m██████████\u001b[0m| 00:00 Sampling completed"
     ]
    },
    {
     "name": "stdout",
     "output_type": "stream",
     "text": [
      "                                                                                                                                                                                                                                                                                                                                "
     ]
    },
    {
     "name": "stderr",
     "output_type": "stream",
     "text": [
      "\n",
      "INFO:cmdstanpy:CmdStan done processing.\n"
     ]
    },
    {
     "name": "stdout",
     "output_type": "stream",
     "text": [
      "\n"
     ]
    }
   ],
   "source": [
    "model_samp_st = CmdStanModel(stan_file='code_7.stan')\n",
    "model_log_target = CmdStanModel(stan_file='code_8.stan')\n",
    "model_log_target_ind = CmdStanModel(stan_file='code_9.stan')\n",
    "data = {'N': F}\n",
    "seed = 25012000     #integer, your date of birth in the DDMMYYYY format without leading zero (or if you are GPRD weary, use any other date you wish)\n",
    "result_1 = model_samp_st.sample(data=data,seed=seed)\n",
    "result_2 = model_log_target.sample(data=data,seed=seed)\n",
    "result_3 = model_log_target_ind.sample(data=data,seed=seed)\n",
    "\n"
   ]
  },
  {
   "cell_type": "code",
   "execution_count": 16,
   "metadata": {},
   "outputs": [
    {
     "data": {
      "image/png": "[encoded data removed]",
      "text/plain": [
       "<Figure size 1490.4x993.6 with 9 Axes>"
      ]
     },
     "metadata": {
      "needs_background": "light"
     },
     "output_type": "display_data"
    }
   ],
   "source": [
    "az.plot_density([result_1,result_2,result_3])\n",
    "plt.show()"
   ]
  },
  {
   "cell_type": "markdown",
   "metadata": {},
   "source": [
    "## Excercise 6 - generated quantities post sampling"
   ]
  },
  {
   "cell_type": "code",
   "execution_count": 18,
   "metadata": {},
   "outputs": [
    {
     "name": "stderr",
     "output_type": "stream",
     "text": [
      "INFO:cmdstanpy:found newer exe file, not recompiling\n",
      "INFO:cmdstanpy:Chain [1] start processing\n",
      "INFO:cmdstanpy:Chain [2] start processing\n",
      "INFO:cmdstanpy:Chain [1] done processing\n",
      "INFO:cmdstanpy:Chain [3] start processing\n",
      "INFO:cmdstanpy:Chain [2] done processing\n",
      "INFO:cmdstanpy:Chain [4] start processing\n",
      "INFO:cmdstanpy:Chain [4] done processing\n",
      "INFO:cmdstanpy:Chain [3] done processing\n"
     ]
    },
    {
     "data": {
      "image/png": "[encoded data removed]",
      "text/plain": [
       "<Figure size 432x288 with 1 Axes>"
      ]
     },
     "metadata": {
      "needs_background": "light"
     },
     "output_type": "display_data"
    }
   ],
   "source": [
    "model_gq = CmdStanModel(stan_file='code_10.stan')\n",
    "# fill in with chosen result from previous excercise\n",
    "mean_of_y = model_gq.generate_quantities(data=data,\n",
    "                                        mcmc_sample = result_2)\n",
    "# investigate the output and plot histogram of mean_y variable\n",
    "dataframe = mean_of_y.draws_pd()\n",
    "dataframe.plot.hist(bins=50)\n",
    "plt.show()"
   ]
  }
 ],
 "metadata": {
  "kernelspec": {
   "display_name": "Python 3.7.10 64-bit ('DA2021': conda)",
   "metadata": {
    "interpreter": {
     "hash": "045f3ba9fbd7084f57766e40ea0c4bb3a1b26edfff4812021a661f88e63a0844"
    }
   },
   "name": "python3"
  },
  "language_info": {
   "codemirror_mode": {
    "name": "ipython",
    "version": 3
   },
   "file_extension": ".py",
   "mimetype": "text/x-python",
   "name": "python",
   "nbconvert_exporter": "python",
   "pygments_lexer": "ipython3",
   "version": "3.9.11"
  },
  "orig_nbformat": 2
 },
 "nbformat": 4,
 "nbformat_minor": 2
}
